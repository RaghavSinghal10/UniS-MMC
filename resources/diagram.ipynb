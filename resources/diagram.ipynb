{
 "cells": [
  {
   "cell_type": "code",
   "execution_count": 12,
   "metadata": {},
   "outputs": [],
   "source": [
    "dataset_csv_path = \"../datasets/Food101/train.csv\" \n",
    "dataset_image_path = \"../datasets/Food101/images/train/\""
   ]
  },
  {
   "cell_type": "code",
   "execution_count": 3,
   "metadata": {},
   "outputs": [
    {
     "name": "stdout",
     "output_type": "stream",
     "text": [
      "Index(['id', 'text', 'annotation', 'label'], dtype='object')\n"
     ]
    }
   ],
   "source": [
    "import pandas as pd\n",
    "\n",
    "df = pd.read_csv(dataset_csv_path)\n",
    "print(df.keys())"
   ]
  },
  {
   "cell_type": "code",
   "execution_count": 6,
   "metadata": {},
   "outputs": [
    {
     "name": "stdout",
     "output_type": "stream",
     "text": [
      "apple_pie_140.jpg\n",
      "Mom's Maple-Apple Pie Recipe | Taste of Home\n",
      "apple_pie\n",
      "0\n"
     ]
    }
   ],
   "source": [
    "index = 1\n",
    "print(df['id'][index])\n",
    "print(df['text'][index]) \n",
    "print(df['annotation'][index])\n",
    "print(df['label'][index])"
   ]
  },
  {
   "cell_type": "code",
   "execution_count": 7,
   "metadata": {},
   "outputs": [
    {
     "name": "stdout",
     "output_type": "stream",
     "text": [
      "{'paella', 'fish_and_chips', 'sashimi', 'chocolate_cake', 'carrot_cake', 'grilled_cheese_sandwich', 'oysters', 'beef_carpaccio', 'baby_back_ribs', 'macaroni_and_cheese', 'crab_cakes', 'filet_mignon', 'beignets', 'pad_thai', 'frozen_yogurt', 'clam_chowder', 'lobster_roll_sandwich', 'churros', 'waffles', 'spring_rolls', 'cheese_plate', 'gyoza', 'creme_brulee', 'garlic_bread', 'french_toast', 'ice_cream', 'spaghetti_carbonara', 'edamame', 'deviled_eggs', 'croque_madame', 'cup_cakes', 'takoyaki', 'scallops', 'hot_dog', 'ramen', 'cheesecake', 'huevos_rancheros', 'hummus', 'prime_rib', 'baklava', 'eggs_benedict', 'caprese_salad', 'samosa', 'beef_tartare', 'club_sandwich', 'falafel', 'fried_rice', 'pizza', 'macarons', 'omelette', 'onion_rings', 'caesar_salad', 'peking_duck', 'red_velvet_cake', 'shrimp_and_grits', 'donuts', 'strawberry_shortcake', 'bread_pudding', 'nachos', 'beet_salad', 'bruschetta', 'tiramisu', 'pulled_pork_sandwich', 'tuna_tartare', 'pho', 'chicken_quesadilla', 'grilled_salmon', 'hamburger', 'lasagna', 'greek_salad', 'risotto', 'dumplings', 'mussels', 'escargots', 'seaweed_salad', 'ceviche', 'spaghetti_bolognese', 'french_onion_soup', 'pork_chop', 'apple_pie', 'bibimbap', 'sushi', 'ravioli', 'lobster_bisque', 'poutine', 'panna_cotta', 'gnocchi', 'guacamole', 'foie_gras', 'tacos', 'miso_soup', 'chicken_wings', 'cannoli', 'hot_and_sour_soup', 'chocolate_mousse', 'chicken_curry', 'french_fries', 'fried_calamari', 'breakfast_burrito', 'pancakes', 'steak'}\n"
     ]
    }
   ],
   "source": [
    "unique_annotation = set()\n",
    "for index in range(len(df['id'])):\n",
    "    unique_annotation.add(df['annotation'][index])\n",
    "print(unique_annotation)"
   ]
  },
  {
   "cell_type": "code",
   "execution_count": 13,
   "metadata": {},
   "outputs": [
    {
     "ename": "FileNotFoundError",
     "evalue": "[Errno 2] No such file or directory: '../datasets/Food101/images/train/ice_cream_419.jpg'",
     "output_type": "error",
     "traceback": [
      "\u001b[0;31m---------------------------------------------------------------------------\u001b[0m",
      "\u001b[0;31mFileNotFoundError\u001b[0m                         Traceback (most recent call last)",
      "Cell \u001b[0;32mIn[13], line 7\u001b[0m\n\u001b[1;32m      5\u001b[0m image_id \u001b[38;5;241m=\u001b[39m df[\u001b[38;5;124m'\u001b[39m\u001b[38;5;124mid\u001b[39m\u001b[38;5;124m'\u001b[39m][index]\n\u001b[1;32m      6\u001b[0m image_path \u001b[38;5;241m=\u001b[39m dataset_image_path \u001b[38;5;241m+\u001b[39m image_id\n\u001b[0;32m----> 7\u001b[0m image \u001b[38;5;241m=\u001b[39m \u001b[43mImage\u001b[49m\u001b[38;5;241;43m.\u001b[39;49m\u001b[43mopen\u001b[49m\u001b[43m(\u001b[49m\u001b[43mimage_path\u001b[49m\u001b[43m)\u001b[49m\n\u001b[1;32m      8\u001b[0m image\u001b[38;5;241m.\u001b[39mshow()\n\u001b[1;32m      9\u001b[0m \u001b[38;5;66;03m# try:\u001b[39;00m\n\u001b[1;32m     10\u001b[0m \u001b[38;5;66;03m#     image_path = dataset_image_path + image_id\u001b[39;00m\n\u001b[1;32m     11\u001b[0m \u001b[38;5;66;03m#     image = Image.open(image_path)\u001b[39;00m\n\u001b[0;32m   (...)\u001b[0m\n\u001b[1;32m     14\u001b[0m \u001b[38;5;66;03m# except:\u001b[39;00m\n\u001b[1;32m     15\u001b[0m \u001b[38;5;66;03m#     print(\"Not found\")\u001b[39;00m\n",
      "File \u001b[0;32m~/multimodal-classification/UniS-MMC/.venv_mm/lib/python3.8/site-packages/PIL/Image.py:2843\u001b[0m, in \u001b[0;36mopen\u001b[0;34m(fp, mode)\u001b[0m\n\u001b[1;32m   2840\u001b[0m     filename \u001b[38;5;241m=\u001b[39m fp\n\u001b[1;32m   2842\u001b[0m \u001b[38;5;28;01mif\u001b[39;00m filename:\n\u001b[0;32m-> 2843\u001b[0m     fp \u001b[38;5;241m=\u001b[39m \u001b[43mbuiltins\u001b[49m\u001b[38;5;241;43m.\u001b[39;49m\u001b[43mopen\u001b[49m\u001b[43m(\u001b[49m\u001b[43mfilename\u001b[49m\u001b[43m,\u001b[49m\u001b[43m \u001b[49m\u001b[38;5;124;43m\"\u001b[39;49m\u001b[38;5;124;43mrb\u001b[39;49m\u001b[38;5;124;43m\"\u001b[39;49m\u001b[43m)\u001b[49m\n\u001b[1;32m   2844\u001b[0m     exclusive_fp \u001b[38;5;241m=\u001b[39m \u001b[38;5;28;01mTrue\u001b[39;00m\n\u001b[1;32m   2846\u001b[0m \u001b[38;5;28;01mtry\u001b[39;00m:\n",
      "\u001b[0;31mFileNotFoundError\u001b[0m: [Errno 2] No such file or directory: '../datasets/Food101/images/train/ice_cream_419.jpg'"
     ]
    }
   ],
   "source": [
    "from PIL import Image\n",
    "for index in range(len(df['id'])):\n",
    "    if df['annotation'][index] == 'ice_cream':\n",
    "        # Get image from dataset image path\n",
    "        image_id = df['id'][index]\n",
    "        image_path = dataset_image_path + df['annotation'][index] + '/' + image_id\n",
    "        image = Image.open(image_path)\n",
    "        image.show()\n",
    "        # try:\n",
    "        #     image_path = dataset_image_path + image_id\n",
    "        #     image = Image.open(image_path)\n",
    "        #     image.show()\n",
    "            \n",
    "        # except:\n",
    "        #     print(\"Not found\")"
   ]
  },
  {
   "cell_type": "code",
   "execution_count": null,
   "metadata": {},
   "outputs": [],
   "source": []
  },
  {
   "cell_type": "code",
   "execution_count": null,
   "metadata": {},
   "outputs": [],
   "source": []
  },
  {
   "cell_type": "code",
   "execution_count": null,
   "metadata": {},
   "outputs": [],
   "source": []
  },
  {
   "cell_type": "code",
   "execution_count": null,
   "metadata": {},
   "outputs": [],
   "source": []
  },
  {
   "cell_type": "code",
   "execution_count": 13,
   "metadata": {},
   "outputs": [],
   "source": [
    "import json\n",
    "dataset_path = '/home/raghav/multimodal-classification/UniS-MMC/datasets/n24news/news/nytimes_dev.json'\n",
    "df = json.load(open(dataset_path, 'r', encoding='utf8'))"
   ]
  },
  {
   "cell_type": "code",
   "execution_count": 14,
   "metadata": {},
   "outputs": [
    {
     "data": {
      "text/plain": [
       "{'section': 'Opinion',\n",
       " 'headline': \"Don't Let Russian Meddling Derail Afghanistan Withdrawal Plans\",\n",
       " 'article_url': 'https://www.nytimes.com/2020/07/07/opinion/russia-bounty-afghanistan-trump.html',\n",
       " 'article': 'The editorial board is a group of opinion journalists whose views are informed by expertise, research, debate and certain longstanding values . It is separate from the newsroom.\\n\\n\\n\\n\\n\\nThere\\'s a lot still missing from the reports that Russia paid for attacks on American and other coalition forces in Afghanistan. That\\'s why it\\'s critical that emotions and politics be kept at bay until the facts are in. Some important context might come from a hearing on the matter by the House Foreign Affairs Committee on Thursday, even though Mike Pompeo, the secretary of state, has declined to attend. The charges are explosive, and the public -- especially the families of fallen soldiers -- deserves some honest answers. The reports in The Times and other news media cite intelligence findings that a Russian military intelligence unit rewarded fighters linked to the Taliban for targeting American troops, possibly disbursing money through a shadowy Afghan middleman named Rahmatullah Azizi. The findings are said to have been relayed to the White House in a regular intelligence briefing that President Trump says he never saw. The logical next step for the president should have been to acknowledge the gravity of the allegations and demand a full report. Instead, Mr. Trump dismissed the story in a tweet as \"just another made up by Fake News tale that is told only to damage me and the Republican Party,\" even as he acknowledged that the information was contained in intelligence reports. Inevitably, the response resurrected speculation about Mr. Trump\\'s unexplained affinity for Vladimir Putin, most recently displayed in attempts to include the Russian leader in a meeting of the Group of 7. Robert O\\'Brien, the national security adviser, said this month that the Justice Department was considering an investigation into whomever may have leaked the information.\\n\\nThe Trump administration\\'s response to this story raises critical questions about whether it is focusing sufficient attention on the plight of American soldiers deployed far from their homeland and on dangerous ground. John Bolton\\'s new book about his time as Mr. Trump\\'s national security adviser is only the latest depiction of a president incapable of absorbing policy briefings. But this issue is not solely a question of Mr. Trump\\'s competence. From the various news accounts, others in the White House and Congress were also apparently advised of the claims, yet no one reacted until the allegations were made public in The Times. Then there\\'s the question of the motives behind the leaks and the solidity of the information. The Wall Street Journal, for one, reported that the National Security Agency -- which specializes in electronic espionage -- strongly dissented from other intelligence agencies over the strength of the intelligence. For agencies to differ in their assessments of intelligence is not unusual in the business of espionage, which by its nature often deals in circumstantial evidence. What the differences were in this case is not known, but they probably account for Mr. Trump\\'s claim that the intelligence did not reach him because it \"didn\\'t rise to that level.\" Other questions abound: When did the reported payments begin? Were they payback for American support of Afghan militants against Soviet troops there in the 1980s, or something else? Were the payments a factor in the deaths of any American or other coalition troops? Was the intelligence tweaked by people seeking to hinder efforts to withdraw American troops? Coalition forces suffered a spate of casualties in Afghanistan last summer and early fall, but there have been only a few deaths since. Four Americans were killed by hostile fire incidents early this year, but the Taliban has not attacked American positions since it signed an agreement with the United States in late February. (Five other Americans died this year in nonhostile accidents or crashes.) A spokesman for the Taliban said the reports of any deal with Russian intelligence agencies were \"baseless.\" Russian officials have said they\\'ll respond if and when they hear concrete accusations.\\n\\nMr. Pompeo has declined to comment on the specifics of the intelligence reports of bounties, but he noted in a recent interview that Russia\\'s involvement in Afghanistan was nothing new and was regularly raised with Russian officials. \"There are many folks using the Taliban or who have used the Taliban over years and years and years as proxy forces,\" he said, noting that Iran and Pakistan have also provided aid to the Taliban over the years. Afghanistan is a forbidding country that has repeatedly confounded invaders. There is no question that the war there has been rife with atrocities, shifting alliances and dubious sources of funds and arms. Mr. Trump is right to try to pull Americans out after more than two decades of inconclusive fighting. Yet the public anger aroused by the bounties story will not go away by claiming \"hoax,\" or dismissing the payments as collateral damage of a dirty war. Legislators from both parties are already demanding explanations, and the House Armed Services Committee voted by a large bipartisan majority for an amendment to the defense bill to make any further withdrawal of American troops from Afghanistan contingent on an assessment of whether any country has offered incentives for the Taliban to attack American and other coalition troops. It is unfortunate to connect the issue of possible Russian payoffs with the withdrawal of U.S. troops. The administration ought to provide more information to lawmakers, which is why it was a missed opportunity for Mr. Pompeo to decline to attend the House Foreign Affairs Committee hearing. But whatever those investigations reveal, the war in Afghanistan needs to be brought to an end. Mr. Putin\\'s intelligence services shouldn\\'t get a say in what is in the best interests of the United States. The threat to Mr. Trump\\'s withdrawal deal alone should encourage the president to get to the bottom of the issue, and if necessary to confront Russia with the numerous tools of statecraft at his disposal.',\n",
       " 'abstract': 'Allegations of bounties paid for the deaths of U.S. soldiers are serious. But the White House ought to stay the course toward a peace deal.',\n",
       " 'article_id': '623c838a-2e02-5c40-bf9d-b1924d15694f',\n",
       " 'image': 'https://static01.nyt.com/images/2020/07/08/opinion/08afghanistan_print/07afghanistan1-facebookJumbo.jpg?year=2020&h=550&w=1050&s=38a483c65c9772b8ed0b6124a36632d7b3141adcf8d57e584bbde149ff04b92c&k=ZQJBKqZ0VN',\n",
       " 'caption': 'American soldiers in Wardak Province in Afghanistan last year.',\n",
       " 'image_id': '623c838a-2e02-5c40-bf9d-b1924d15694f'}"
      ]
     },
     "execution_count": 14,
     "metadata": {},
     "output_type": "execute_result"
    }
   ],
   "source": [
    "df[2]"
   ]
  },
  {
   "cell_type": "code",
   "execution_count": 6,
   "metadata": {},
   "outputs": [
    {
     "name": "stdout",
     "output_type": "stream",
     "text": [
      "Collecting jsonlines\n",
      "  Downloading jsonlines-4.0.0-py3-none-any.whl (8.7 kB)\n",
      "Collecting attrs>=19.2.0\n",
      "  Downloading attrs-23.2.0-py3-none-any.whl (60 kB)\n",
      "\u001b[K     |████████████████████████████████| 60 kB 8.3 MB/s  eta 0:00:01\n",
      "\u001b[?25hInstalling collected packages: attrs, jsonlines\n",
      "Successfully installed attrs-23.2.0 jsonlines-4.0.0\n"
     ]
    }
   ],
   "source": [
    "! pip install jsonlines"
   ]
  },
  {
   "cell_type": "code",
   "execution_count": 10,
   "metadata": {},
   "outputs": [],
   "source": [
    "\n",
    "import jsonlines\n",
    "dataset_path = '/home/raghav/multimodal-classification/UniS-MMC/datasets/MM-IMDB/test.jsonl'\n",
    "dataset = []\n",
    "# Open the JSONL file\n",
    "with jsonlines.open(dataset_path) as reader:\n",
    "    # Iterate over each line in the file\n",
    "    for line in reader:\n",
    "        # Process each line as a JSON object\n",
    "        dataset.append(line)\n",
    "        \n"
   ]
  },
  {
   "cell_type": "code",
   "execution_count": 11,
   "metadata": {},
   "outputs": [
    {
     "name": "stdout",
     "output_type": "stream",
     "text": [
      "7779\n"
     ]
    }
   ],
   "source": [
    "print(len(dataset))"
   ]
  },
  {
   "cell_type": "code",
   "execution_count": 12,
   "metadata": {},
   "outputs": [
    {
     "name": "stdout",
     "output_type": "stream",
     "text": [
      "{'id': '0078718', 'text': \"Arthur Kirkland, an idealistic defense attorney in Baltimore, cares about his clients and visits his aging grandfather, who put him through law school, every week. Things aren't going well for Arthur: two of his clients are increasingly desperate, neither should be in prison, his partner is behaving bizarrely, he's begun an affair with an attorney who's on the bar's disciplinary committee, his favorite judge may have a death wish, and then, the judge he dislikes most, a by-the-book martinet, demands that Arthur defend him when he's accused of a brutal assault on a young woman. Is there any way to expose real corruption and find justice for all?\", 'image': 'mmimdb/dataset/0078718.jpeg', 'label': ['Crime', 'Drama', 'Thriller']}\n"
     ]
    }
   ],
   "source": [
    "print(dataset[0])"
   ]
  },
  {
   "cell_type": "code",
   "execution_count": 15,
   "metadata": {},
   "outputs": [],
   "source": [
    "label_mmimdb = {\n",
    "    'Action': 0,\n",
    "    'Adventure': 1,\n",
    "    'Animation': 2,\n",
    "    'Biography': 3,\n",
    "    'Comedy': 4,\n",
    "    'Crime': 5,\n",
    "    'Documentary': 6,\n",
    "    'Drama': 7,\n",
    "    'Family': 8,\n",
    "    'Fantasy': 9,\n",
    "    'Film-Noir': 10,\n",
    "    'History': 11,\n",
    "    'Horror': 12,\n",
    "    'Music': 13,\n",
    "    'Musical': 14,\n",
    "    'Mystery': 15,\n",
    "    'Romance': 16,\n",
    "    'Sci-Fi': 17,\n",
    "    'Short': 18,\n",
    "    'Sport': 19,\n",
    "    'Thriller': 20,\n",
    "    'War': 21,\n",
    "    'Western': 22\n",
    "}\n"
   ]
  },
  {
   "cell_type": "code",
   "execution_count": 22,
   "metadata": {},
   "outputs": [],
   "source": [
    "list_genres = ['Action', 'War', 'Sport']"
   ]
  },
  {
   "cell_type": "code",
   "execution_count": 23,
   "metadata": {},
   "outputs": [
    {
     "name": "stdout",
     "output_type": "stream",
     "text": [
      "[0, 21, 19]\n"
     ]
    }
   ],
   "source": [
    "indices = [label_mmimdb[genre] for genre in list_genres]\n",
    "print(indices)"
   ]
  },
  {
   "cell_type": "code",
   "execution_count": 1,
   "metadata": {},
   "outputs": [],
   "source": [
    "label_mmimdb = {\n",
    "    'Action': 0,\n",
    "    'Adventure': 1,\n",
    "    'Animation': 2,\n",
    "    'Biography': 3,\n",
    "    'Comedy': 4,\n",
    "    'Crime': 5,\n",
    "    'Documentary': 6,\n",
    "    'Drama': 7,\n",
    "    'Family': 8,\n",
    "    'Fantasy': 9,\n",
    "    'Film-Noir': 10,\n",
    "    'History': 11,\n",
    "    'Horror': 12,\n",
    "    'Music': 13,\n",
    "    'Musical': 14,\n",
    "    'Mystery': 15,\n",
    "    'Romance': 16,\n",
    "    'Sci-Fi': 17,\n",
    "    'Short': 18,\n",
    "    'Sport': 19,\n",
    "    'Thriller': 20,\n",
    "    'War': 21,\n",
    "    'Western': 22\n",
    "}\n"
   ]
  },
  {
   "cell_type": "code",
   "execution_count": 4,
   "metadata": {},
   "outputs": [
    {
     "name": "stdout",
     "output_type": "stream",
     "text": [
      "[0, 21]\n"
     ]
    }
   ],
   "source": [
    "num_labels = len(label_mmimdb.keys())\n",
    "label = [0]*num_labels \n",
    "categories = [label_mmimdb[genres] for genres in ['Action','War']]\n",
    "print(categories)"
   ]
  },
  {
   "cell_type": "code",
   "execution_count": 5,
   "metadata": {},
   "outputs": [],
   "source": [
    "for category in categories:\n",
    "    label[category] = 1 "
   ]
  },
  {
   "cell_type": "code",
   "execution_count": 6,
   "metadata": {},
   "outputs": [
    {
     "data": {
      "text/plain": [
       "[1, 0, 0, 0, 0, 0, 0, 0, 0, 0, 0, 0, 0, 0, 0, 0, 0, 0, 0, 0, 0, 1, 0]"
      ]
     },
     "execution_count": 6,
     "metadata": {},
     "output_type": "execute_result"
    }
   ],
   "source": [
    "label"
   ]
  },
  {
   "cell_type": "code",
   "execution_count": null,
   "metadata": {},
   "outputs": [],
   "source": []
  }
 ],
 "metadata": {
  "kernelspec": {
   "display_name": "Python (M3CoL)",
   "language": "python",
   "name": ".venv_mm"
  },
  "language_info": {
   "codemirror_mode": {
    "name": "ipython",
    "version": 3
   },
   "file_extension": ".py",
   "mimetype": "text/x-python",
   "name": "python",
   "nbconvert_exporter": "python",
   "pygments_lexer": "ipython3",
   "version": "3.8.10"
  }
 },
 "nbformat": 4,
 "nbformat_minor": 2
}

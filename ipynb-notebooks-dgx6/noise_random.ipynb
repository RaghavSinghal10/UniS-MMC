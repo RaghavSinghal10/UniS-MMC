{
 "cells": [
  {
   "cell_type": "code",
   "execution_count": 1,
   "metadata": {},
   "outputs": [
    {
     "name": "stderr",
     "output_type": "stream",
     "text": [
      "/home/raghav/multimodal-classification/UniS-MMC/.venv_mm/lib/python3.8/site-packages/tqdm/auto.py:22: TqdmWarning: IProgress not found. Please update jupyter and ipywidgets. See https://ipywidgets.readthedocs.io/en/stable/user_install.html\n",
      "  from .autonotebook import tqdm as notebook_tqdm\n"
     ]
    }
   ],
   "source": [
    "import sys\n",
    "import torch\n",
    "import os \n",
    "import numpy as np\n",
    "from PIL import Image, ImageOps\n",
    "import torchvision.transforms as transforms\n",
    "# import wandb\n",
    "import matplotlib.pyplot as plt\n",
    "import matplotlib.patches as patches\n",
    "from tqdm import tqdm\n",
    "from scipy.ndimage import gaussian_filter\n",
    "from PIL import Image\n",
    "sys.path.append('..')  \n",
    "import scipy\n",
    "\n",
    "from types import SimpleNamespace\n",
    "from model.model import MMC  \n",
    "from src.config import Config\n",
    "\n",
    "import os\n",
    "os.environ[\"CUDA_VISIBLE_DEVICES\"]=\"3\""
   ]
  },
  {
   "cell_type": "code",
   "execution_count": 2,
   "metadata": {},
   "outputs": [
    {
     "name": "stdout",
     "output_type": "stream",
     "text": [
      "cuda\n"
     ]
    }
   ],
   "source": [
    "print(torch.device(\"cuda\" if torch.cuda.is_available() else \"cpu\"))"
   ]
  },
  {
   "cell_type": "code",
   "execution_count": 3,
   "metadata": {},
   "outputs": [
    {
     "name": "stdout",
     "output_type": "stream",
     "text": [
      "../datasets/\n"
     ]
    }
   ],
   "source": [
    "args = SimpleNamespace(\n",
    "    name='MMC',\n",
    "    dataset='n24news',  # Adjust as per your dataset or requirement\n",
    "    text_type='abstract',\n",
    "    mmc='UniSMMC',\n",
    "    mmc_tao=0.07,\n",
    "    batch_size=100,\n",
    "    lr_mm=0.001,\n",
    "    min_epoch=1,\n",
    "    valid_step=50,\n",
    "    max_length=512,\n",
    "    text_encoder='roberta_base',\n",
    "    image_encoder='vit_base',\n",
    "    text_out=768,\n",
    "    img_out=768,\n",
    "    lr_mm_cls=0.001,\n",
    "    mm_dropout=0.0,\n",
    "    lr_text_tfm=2e-5,\n",
    "    lr_img_tfm=5e-5,\n",
    "    lr_img_cls=0.0001,\n",
    "    lr_text_cls=5e-5,\n",
    "    text_dropout=0.0,\n",
    "    img_dropout=0.1,\n",
    "    nplot='',\n",
    "    data_dir='../datasets/',  # Ensure this path is correct in your notebook environment\n",
    "    test_only=False,\n",
    "    pretrained_dir='../pretrained_models',  # Adjust as necessary\n",
    "    model_save_dir='Path/To/results/models',\n",
    "    res_save_dir='Path/To/results/results',\n",
    "    fig_save_dir='Path/To/results/imgs',\n",
    "    logs_dir='Path/To/results/logs',\n",
    "    local_rank=-1,\n",
    "    seeds=None,\n",
    "    model_path='./Path/To/results/models',\n",
    "    save_model=True,\n",
    "    cross_attention=False,\n",
    "    text_mixup=False,\n",
    "    image_mixup=False,\n",
    "    image_embedding_mixup=False,\n",
    "    alpha=0.2,\n",
    "    multi_mixup=True,\n",
    "    mixup_pct=0.33,\n",
    "    lambda_mixup=0.1,\n",
    "    mixup_beta=0.15,\n",
    "    mixup_s_thresh=0.5,\n",
    "    lr_scheduler='ReduceLROnPlateau',\n",
    "    device=torch.device(\"cuda\" if torch.cuda.is_available() else \"cpu\")\n",
    ")\n",
    "\n",
    "config = Config(args)\n",
    "args = config.get_config()\n",
    "\n",
    "np.random.seed(args.seed)\n",
    "torch.manual_seed(args.seed)\n",
    "torch.cuda.manual_seed(args.seed)\n",
    "torch.cuda.manual_seed_all(args.seed)\n",
    "\n",
    "if args.local_rank == -1:\n",
    "    device = torch.device(\"cuda\")\n",
    "else:\n",
    "    torch.cuda.set_device(args.local_rank)\n",
    "    device = torch.device(\"cuda\", args.local_rank)\n",
    "    torch.distributed.init_process_group(backend=\"nccl\")\n",
    "\n",
    "args.device = device\n",
    "print(args.data_dir)\n",
    "args.data_dir = os.path.join(args.data_dir, args.dataset)\n",
    "\n",
    "#args.best_model_save_path = os.path.join(args.model_save_dir, f'{args.dataset}-best-{time.strftime(\"%Y%m%d-%H%M%S\")}.pth')v"
   ]
  },
  {
   "cell_type": "code",
   "execution_count": 4,
   "metadata": {},
   "outputs": [
    {
     "name": "stdout",
     "output_type": "stream",
     "text": [
      "cuda\n"
     ]
    }
   ],
   "source": [
    "print(args.device)"
   ]
  },
  {
   "cell_type": "code",
   "execution_count": 5,
   "metadata": {},
   "outputs": [],
   "source": [
    "from model.utils import *\n",
    "#from model.model import MMC\n",
    "from model.model_noise_random import MMC\n",
    "from model.model_cross import MMC_Cross\n",
    "from data.dataloader import MMDataLoader"
   ]
  },
  {
   "cell_type": "code",
   "execution_count": 6,
   "metadata": {},
   "outputs": [
    {
     "name": "stdout",
     "output_type": "stream",
     "text": [
      "../datasets/n24news/news/nytimes_train.json\n",
      "../datasets/n24news/news/nytimes_dev.json\n",
      "../datasets/n24news/news/nytimes_test.json\n"
     ]
    }
   ],
   "source": [
    "train_loader, valid_loader, test_loader = MMDataLoader(args)"
   ]
  },
  {
   "cell_type": "code",
   "execution_count": 7,
   "metadata": {},
   "outputs": [],
   "source": [
    "model = MMC(args).to(args.device)"
   ]
  },
  {
   "cell_type": "code",
   "execution_count": 10,
   "metadata": {},
   "outputs": [],
   "source": [
    "# model_path = '/home/raghav/multimodal-classification/UniS-MMC/saved-models-for-visualization/Food101-best-m3co.pth'\n",
    "# model_path = '/home/raghav/multimodal-classification/UniS-MMC/saved-models-for-visualization/Food101-best-mixup.pth'\n",
    "# model_path= '/home/raghav/multimodal-classification/UniS-MMC/saved-models-for-visualization/Food101-best-m3co+multisoftclip.pth'\n",
    "\n",
    "model_path = '/home/raghav/multimodal-classification/UniS-MMC/saved-models-for-visualization/n24news-best-m3co+multisoftclip-abstract.pth'\n",
    "model_path = '/home/raghav/multimodal-classification/UniS-MMC/saved-models-for-visualization/n24news-best-no-unimodal-abstract.pth'\n",
    "#model_path = '/home/raghav/multimodal-classification/UniS-MMC/saved-models-for-visualization/n24news-best-mixup-abstract.pth'\n",
    "model.load_state_dict(torch.load(model_path), strict=False)\n",
    "model = model.to(device=args.device)"
   ]
  },
  {
   "cell_type": "code",
   "execution_count": 11,
   "metadata": {},
   "outputs": [],
   "source": [
    "dataloader = test_loader"
   ]
  },
  {
   "cell_type": "code",
   "execution_count": 12,
   "metadata": {},
   "outputs": [
    {
     "name": "stderr",
     "output_type": "stream",
     "text": [
      "  0%|          | 0/191 [00:02<?, ?it/s]\n"
     ]
    }
   ],
   "source": [
    "model.eval()\n",
    "with torch.no_grad():\n",
    "        y_pred = []\n",
    "        y_true = []\n",
    "        with tqdm(dataloader) as td:\n",
    "            for batch_image, text_input_ids, text_token_type_ids, text_attention_mask, batch_label in td:\n",
    "                text = text_input_ids.cuda(), text_token_type_ids.cuda(), text_attention_mask.cuda()\n",
    "                image = batch_image.cuda()\n",
    "                logit = model.infer(text, image, None)\n",
    "                y_pred.append(logit.cpu())\n",
    "                y_true.append(batch_label.cpu())\n",
    "                break\n",
    "            \n",
    "        logits = torch.cat(y_pred)\n",
    "        true = torch.cat(y_true).data.cpu().numpy()\n",
    "        prob = F.softmax(logits, dim=1).data.cpu().numpy()"
   ]
  },
  {
   "cell_type": "code",
   "execution_count": 13,
   "metadata": {},
   "outputs": [
    {
     "data": {
      "image/png": "[encoded data removed]",
      "text/plain": [
       "<Figure size 640x480 with 1 Axes>"
      ]
     },
     "metadata": {},
     "output_type": "display_data"
    }
   ],
   "source": [
    "softmax_logits = F.softmax(logits, dim=1)\n",
    "max_values, _ = torch.max(softmax_logits, dim=1)\n",
    "\n",
    "plt.hist(max_values, bins=10)\n",
    "plt.xlabel('Confidence')\n",
    "plt.ylabel('Frequency')\n",
    "plt.title('Distribution of Confidence')\n",
    "plt.show()"
   ]
  },
  {
   "cell_type": "code",
   "execution_count": null,
   "metadata": {},
   "outputs": [],
   "source": []
  }
 ],
 "metadata": {
  "kernelspec": {
   "display_name": ".venv_mm",
   "language": "python",
   "name": "python3"
  },
  "language_info": {
   "codemirror_mode": {
    "name": "ipython",
    "version": 3
   },
   "file_extension": ".py",
   "mimetype": "text/x-python",
   "name": "python",
   "nbconvert_exporter": "python",
   "pygments_lexer": "ipython3",
   "version": "3.8.10"
  }
 },
 "nbformat": 4,
 "nbformat_minor": 2
}
